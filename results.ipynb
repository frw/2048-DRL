{
 "metadata": {
  "name": "",
  "signature": "sha256:097837eb160654f4c01046e19392c09becd1517a0dba644e765e8a7afb02730b"
 },
 "nbformat": 3,
 "nbformat_minor": 0,
 "worksheets": [
  {
   "cells": [
    {
     "cell_type": "code",
     "collapsed": false,
     "input": [
      "import numpy as np\n",
      "import pylab as pl\n",
      "import cPickle as pickle\n",
      "import gzip\n",
      "import os"
     ],
     "language": "python",
     "metadata": {},
     "outputs": [],
     "prompt_number": 3
    },
    {
     "cell_type": "code",
     "collapsed": false,
     "input": [
      "def plot_scores(scores, title):\n",
      "    indices = np.arange(1, len(scores) + 1)\n",
      "    moving_average = np.convolve(scores, np.repeat(1.0, 100) / 100, 'valid')\n",
      "    print moving_average[-1]\n",
      "\n",
      "    pl.plot(indices, scores, '-')\n",
      "    pl.plot(indices[99:], moving_average, 'r--')\n",
      "    pl.title(title)\n",
      "    pl.ylabel(\"Score\")\n",
      "    pl.xlabel(\"Iteration\")\n",
      "    pl.show()\n",
      "\n",
      "def plot_select_general_weights(weights, title):\n",
      "    indices = np.arange(1, len(weights) + 1) #* 100\n",
      "\n",
      "    #1st element = which layer, 2nd element = preceding layer node #, 3rd element = next layer node #\n",
      "    weight_list = [[0,0,0], [0,0,1], [0,10,0], [0,10,1], [0,16,0], [0,16,1], [0,17,0], [0,17,1], [2,0,0], [2,1,0]]\n",
      "\n",
      "    for elem in weight_list:\n",
      "        pl.figure()\n",
      "        formatted_weights = []\n",
      "        for i in range(len(weights)):\n",
      "            formatted_weights.append(weights[i][elem[0]][elem[1],elem[2]])\n",
      "        pl.plot(indices, formatted_weights)\n",
      "        pl.title(title)\n",
      "        pl.ylabel(\"Weight Value\")\n",
      "        pl.xlabel(\"Iteration\")\n",
      "        pl.show()\n",
      "\n",
      "\n",
      "def graph(filename):\n",
      "    if os.path.isfile(filename):\n",
      "        with gzip.open(filename, 'rb') as infile:\n",
      "            learner = pickle.load(infile)\n",
      "        print np.mean(learner.scores[-1000:])\n",
      "        plot_scores(learner.scores, learner.__class__.__name__ + \" Scores\")\n",
      "        plot_select_general_weights(learner.weights, learner.__class__.__name__ + \" Single Weight\")\n",
      "    else:\n",
      "        print('Cannot find file!')"
     ],
     "language": "python",
     "metadata": {},
     "outputs": [],
     "prompt_number": 4
    },
    {
     "cell_type": "code",
     "collapsed": false,
     "input": [
      "graph('BasicDeepQLearner.pkl.gz')"
     ],
     "language": "python",
     "metadata": {},
     "outputs": [
      {
       "ename": "ImportError",
       "evalue": "No module named rl.reinforcement_learner",
       "output_type": "pyerr",
       "traceback": [
        "\u001b[0;31m---------------------------------------------------------------------------\u001b[0m\n\u001b[0;31mImportError\u001b[0m                               Traceback (most recent call last)",
        "\u001b[0;32m<ipython-input-5-07ec077036ff>\u001b[0m in \u001b[0;36m<module>\u001b[0;34m()\u001b[0m\n\u001b[0;32m----> 1\u001b[0;31m \u001b[0mgraph\u001b[0m\u001b[0;34m(\u001b[0m\u001b[0;34m'BasicDeepQLearner.pkl.gz'\u001b[0m\u001b[0;34m)\u001b[0m\u001b[0;34m\u001b[0m\u001b[0m\n\u001b[0m",
        "\u001b[0;32m<ipython-input-4-4bf0f0a1e798>\u001b[0m in \u001b[0;36mgraph\u001b[0;34m(filename)\u001b[0m\n\u001b[1;32m     32\u001b[0m     \u001b[0;32mif\u001b[0m \u001b[0mos\u001b[0m\u001b[0;34m.\u001b[0m\u001b[0mpath\u001b[0m\u001b[0;34m.\u001b[0m\u001b[0misfile\u001b[0m\u001b[0;34m(\u001b[0m\u001b[0mfilename\u001b[0m\u001b[0;34m)\u001b[0m\u001b[0;34m:\u001b[0m\u001b[0;34m\u001b[0m\u001b[0m\n\u001b[1;32m     33\u001b[0m         \u001b[0;32mwith\u001b[0m \u001b[0mgzip\u001b[0m\u001b[0;34m.\u001b[0m\u001b[0mopen\u001b[0m\u001b[0;34m(\u001b[0m\u001b[0mfilename\u001b[0m\u001b[0;34m,\u001b[0m \u001b[0;34m'rb'\u001b[0m\u001b[0;34m)\u001b[0m \u001b[0;32mas\u001b[0m \u001b[0minfile\u001b[0m\u001b[0;34m:\u001b[0m\u001b[0;34m\u001b[0m\u001b[0m\n\u001b[0;32m---> 34\u001b[0;31m             \u001b[0mlearner\u001b[0m \u001b[0;34m=\u001b[0m \u001b[0mpickle\u001b[0m\u001b[0;34m.\u001b[0m\u001b[0mload\u001b[0m\u001b[0;34m(\u001b[0m\u001b[0minfile\u001b[0m\u001b[0;34m)\u001b[0m\u001b[0;34m\u001b[0m\u001b[0m\n\u001b[0m\u001b[1;32m     35\u001b[0m         \u001b[0;32mprint\u001b[0m \u001b[0mnp\u001b[0m\u001b[0;34m.\u001b[0m\u001b[0mmean\u001b[0m\u001b[0;34m(\u001b[0m\u001b[0mlearner\u001b[0m\u001b[0;34m.\u001b[0m\u001b[0mscores\u001b[0m\u001b[0;34m[\u001b[0m\u001b[0;34m-\u001b[0m\u001b[0;36m1000\u001b[0m\u001b[0;34m:\u001b[0m\u001b[0;34m]\u001b[0m\u001b[0;34m)\u001b[0m\u001b[0;34m\u001b[0m\u001b[0m\n\u001b[1;32m     36\u001b[0m         \u001b[0mplot_scores\u001b[0m\u001b[0;34m(\u001b[0m\u001b[0mlearner\u001b[0m\u001b[0;34m.\u001b[0m\u001b[0mscores\u001b[0m\u001b[0;34m,\u001b[0m \u001b[0mlearner\u001b[0m\u001b[0;34m.\u001b[0m\u001b[0m__class__\u001b[0m\u001b[0;34m.\u001b[0m\u001b[0m__name__\u001b[0m \u001b[0;34m+\u001b[0m \u001b[0;34m\" Scores\"\u001b[0m\u001b[0;34m)\u001b[0m\u001b[0;34m\u001b[0m\u001b[0m\n",
        "\u001b[0;31mImportError\u001b[0m: No module named rl.reinforcement_learner"
       ]
      }
     ],
     "prompt_number": 5
    },
    {
     "cell_type": "code",
     "collapsed": false,
     "input": [],
     "language": "python",
     "metadata": {},
     "outputs": []
    }
   ],
   "metadata": {}
  }
 ]
}