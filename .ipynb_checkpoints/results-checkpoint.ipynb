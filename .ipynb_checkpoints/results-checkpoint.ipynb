{
 "metadata": {
  "name": "",
  "signature": "sha256:a6918098df0a1e045368cb57ebfe88628582115f4e3782b6eed51bccaf11f6b7"
 },
 "nbformat": 3,
 "nbformat_minor": 0,
 "worksheets": [
  {
   "cells": [
    {
     "cell_type": "code",
     "collapsed": false,
     "input": [
      "import numpy as np\n",
      "import pylab as pl\n",
      "import cPickle as pickle\n",
      "import gzip\n",
      "import os"
     ],
     "language": "python",
     "metadata": {},
     "outputs": [],
     "prompt_number": 1
    },
    {
     "cell_type": "code",
     "collapsed": false,
     "input": [
      "def plot_scores(scores, title):\n",
      "    indices = np.arange(1, len(scores) + 1)\n",
      "    moving_average = np.convolve(scores, np.repeat(1.0, 100) / 100, 'valid')\n",
      "    print moving_average[-1]\n",
      "\n",
      "    pl.plot(indices, scores, '-')\n",
      "    pl.plot(indices[99:], moving_average, 'r--')\n",
      "    pl.title(title)\n",
      "    pl.ylabel(\"Score\")\n",
      "    pl.xlabel(\"Iteration\")\n",
      "    pl.show()\n",
      "\n",
      "def plot_select_general_weights(weights, title):\n",
      "    indices = np.arange(1, len(weights) + 1) #* 100\n",
      "\n",
      "    #1st element = which layer, 2nd element = preceding layer node #, 3rd element = next layer node #\n",
      "    weight_list = [[0,0,0], [0,0,1], [0,10,0], [0,10,1], [0,16,0], [0,16,1], [0,17,0], [0,17,1], [2,0,0], [2,1,0]]\n",
      "\n",
      "    for elem in weight_list:\n",
      "        pl.figure()\n",
      "        formatted_weights = []\n",
      "        for i in range(len(weights)):\n",
      "            formatted_weights.append(weights[i][elem[0]][elem[1],elem[2]])\n",
      "        pl.plot(indices, formatted_weights)\n",
      "        pl.title(title)\n",
      "        pl.ylabel(\"Weight Value\")\n",
      "        pl.xlabel(\"Iteration\")\n",
      "        pl.show()\n",
      "\n",
      "\n",
      "def graph(filename):\n",
      "    if os.path.isfile(filename):\n",
      "        with gzip.open(filename, 'rb') as infile:\n",
      "            learner = pickle.load(infile)\n",
      "        print np.mean(learner.scores[-1000:])\n",
      "        plot_scores(learner.scores, learner.__class__.__name__ + \" Scores\")\n",
      "        plot_select_general_weights(learner.weights, learner.__class__.__name__ + \" Single Weight\")\n",
      "    else:\n",
      "        print('Cannot find file!')"
     ],
     "language": "python",
     "metadata": {},
     "outputs": []
    },
    {
     "cell_type": "code",
     "collapsed": false,
     "input": [
      "graph('BasicDeepQLearner.pkl.gz')"
     ],
     "language": "python",
     "metadata": {},
     "outputs": []
    }
   ],
   "metadata": {}
  }
 ]
}